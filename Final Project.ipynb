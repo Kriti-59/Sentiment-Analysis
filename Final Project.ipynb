{
 "cells": [
  {
   "cell_type": "markdown",
   "id": "a4aa5c69-cba8-4632-a129-851e09f7d9d7",
   "metadata": {},
   "source": [
    "# Restaurant Recommendation"
   ]
  },
  {
   "cell_type": "code",
   "execution_count": 15,
   "id": "c4e297ce-b5ac-44ab-a2a5-fd7c92ed09da",
   "metadata": {},
   "outputs": [],
   "source": [
    "import requests\n",
    "from bs4 import BeautifulSoup"
   ]
  },
  {
   "cell_type": "code",
   "execution_count": 16,
   "id": "a4b0f226-5c99-4ca6-ae03-15c190bf3bad",
   "metadata": {},
   "outputs": [],
   "source": [
    "response = requests.get(\"https://www.yelp.com/search?find_desc=Restaurants&find_loc=Maryville%2C+MO+64468\")"
   ]
  },
  {
   "cell_type": "code",
   "execution_count": 19,
   "id": "6f390a3e-4c06-4895-bb7b-6fc4ac07efb1",
   "metadata": {},
   "outputs": [],
   "source": [
    "soup = BeautifulSoup(response.content, \"html.parser\")"
   ]
  },
  {
   "cell_type": "code",
   "execution_count": 36,
   "id": "9162c607-dc7b-4894-8534-64a976ef12fd",
   "metadata": {
    "scrolled": true
   },
   "outputs": [
    {
     "name": "stdout",
     "output_type": "stream",
     "text": [
      "10\n"
     ]
    }
   ],
   "source": [
    "card_divs = soup.find_all('div', class_='css-33bb9k', attrs={'data-testid': 'serp-ia-card'})\n",
    "num_cards = len(card_divs)\n",
    "print(num_cards)"
   ]
  },
  {
   "cell_type": "code",
   "execution_count": 139,
   "id": "4b47b5a0-7a2c-44ef-aa82-a8c2b9062ff7",
   "metadata": {},
   "outputs": [
    {
     "name": "stdout",
     "output_type": "stream",
     "text": [
      "Business Name: A&G Restaurant\n",
      "Link to full review: https://www.yelp.com/biz/a-and-g-restaurant-maryville?hrid=6HiKKch4iVUvNLQrsl_RiA&osq=Restaurants\n",
      "Total Ratings: 3.9\n",
      "\n",
      "Business Name: William Coy’s Farm to Table Restaurant\n",
      "Link to full review: https://www.yelp.com/biz/william-coys-farm-to-table-restaurant-maryville?hrid=gyKkuYOmCWgnWzfPwkN46Q&osq=Restaurants\n",
      "Total Ratings: 3.7\n",
      "\n",
      "Business Name: Pagliai’s Pizza\n",
      "Link to full review: https://www.yelp.com/biz/pagliais-pizza-maryville?hrid=4uXy43ISkUhRy5sSwoSCXQ&osq=Restaurants\n",
      "Total Ratings: 4.3\n",
      "\n",
      "Business Name: Happy Garden\n",
      "Link to full review: https://www.yelp.com/biz/happy-garden-maryville?hrid=TNLbHpOeZcXbDnN2te1dbw&osq=Restaurants\n",
      "Total Ratings: 4.1\n",
      "\n",
      "Business Name: Simply Siam\n",
      "Link to full review: https://www.yelp.com/biz/simply-siam-maryville-2?hrid=rVrbr1EiprHQX2ecKw2oMw&osq=Restaurants\n",
      "Total Ratings: 4.1\n",
      "\n",
      "Business Name: El Maguey\n",
      "Link to full review: https://www.yelp.com/biz/el-maguey-maryville?hrid=4UU6TDsOrjKv9X7ny8Lwdw&osq=Restaurants\n",
      "Total Ratings: 4.2\n",
      "\n",
      "Business Name: Planet Sub\n",
      "Link to full review: https://www.yelp.com/biz/planet-sub-maryville?hrid=WjvgtKeFgBB7JXL9b0zlKQ&osq=Restaurants\n",
      "Total Ratings: 5.0\n",
      "\n",
      "Business Name: Clear Creek\n",
      "Span tag containing the link not found\n",
      "Total Ratings 0\n",
      "Total Ratings not found\n",
      "\n",
      "Business Name: Pizza Ranch\n",
      "Link to full review: https://www.yelp.com/biz/pizza-ranch-maryville?hrid=e-rqSPYTULODON_OiL-s5A&osq=Restaurants\n",
      "Total Ratings: 4.0\n",
      "\n",
      "Business Name: Chick-fil-A\n",
      "Link to full review: https://www.yelp.com/biz/chick-fil-a-maryville-3?hrid=fCLihQ2IaYYQC1BuU6RMJw&osq=Restaurants\n",
      "Total Ratings: 4.5\n",
      "\n"
     ]
    }
   ],
   "source": [
    "\n",
    "business_ratings = {}\n",
    "business_review_urls = {}\n",
    "\n",
    "base_url = \"https://www.yelp.com\"\n",
    "\n",
    "for card_div in card_divs:\n",
    "    # Extract business name\n",
    "    name = card_div.find('a', class_='css-19v1rkv').text.strip()\n",
    "    print(\"Business Name:\", name)\n",
    "    more_span = card_div.find('span', class_='css-1wayfxy')\n",
    "    if more_span:\n",
    "        more_link = more_span.find('a')\n",
    "        if more_link:\n",
    "            review_url = more_link['href']\n",
    "            full_review_url = base_url +  review_url\n",
    "            print(\"Link to full review:\", full_review_url)\n",
    "            business_review_urls[name] = full_review_url\n",
    "        else:\n",
    "            print(\"Full review link not found\")\n",
    "    else:\n",
    "        print(\"Span tag containing the link not found\")\n",
    "\n",
    "    # Find the total ratings\n",
    "    total_ratings_element = card_div.find('span', class_='css-gutk1c')\n",
    "    if total_ratings_element:\n",
    "        total_ratings = total_ratings_element.text.strip()\n",
    "        print(\"Total Ratings:\", total_ratings)\n",
    "    else:\n",
    "        total_ratings = 0\n",
    "        print(\"Total Ratings\", total_ratings)\n",
    "        print(\"Total Ratings not found\")\n",
    "\n",
    "    business_ratings[name] = total_ratings\n",
    "\n",
    "    print()  "
   ]
  },
  {
   "cell_type": "markdown",
   "id": "370bce4e",
   "metadata": {},
   "source": [
    "# Manipulating data to get the name of the restaurant, total ratings and link to reviews of respective restaurant\n",
    " - Name of restaurant and it's rating to visualize data for recommendation\n",
    " - Link to full review to extract and anlalyzize the reviews for each restaurant"
   ]
  },
  {
   "cell_type": "code",
   "execution_count": 138,
   "id": "8fd1945e-88dc-4366-a613-0bed5d65ab31",
   "metadata": {},
   "outputs": [
    {
     "name": "stdout",
     "output_type": "stream",
     "text": [
      "A&G Restaurant : https://www.yelp.com/biz/chick-fil-a-maryville-3?hrid=fCLihQ2IaYYQC1BuU6RMJw&osq=Restaurants\n",
      "William Coy’s Farm to Table Restaurant : https://www.yelp.com/biz/chick-fil-a-maryville-3?hrid=fCLihQ2IaYYQC1BuU6RMJw&osq=Restaurants\n",
      "Pagliai’s Pizza : https://www.yelp.com/biz/chick-fil-a-maryville-3?hrid=fCLihQ2IaYYQC1BuU6RMJw&osq=Restaurants\n",
      "Happy Garden : https://www.yelp.com/biz/chick-fil-a-maryville-3?hrid=fCLihQ2IaYYQC1BuU6RMJw&osq=Restaurants\n",
      "Simply Siam : https://www.yelp.com/biz/chick-fil-a-maryville-3?hrid=fCLihQ2IaYYQC1BuU6RMJw&osq=Restaurants\n",
      "El Maguey : https://www.yelp.com/biz/chick-fil-a-maryville-3?hrid=fCLihQ2IaYYQC1BuU6RMJw&osq=Restaurants\n",
      "Planet Sub : https://www.yelp.com/biz/chick-fil-a-maryville-3?hrid=fCLihQ2IaYYQC1BuU6RMJw&osq=Restaurants\n",
      "Pizza Ranch : https://www.yelp.com/biz/chick-fil-a-maryville-3?hrid=fCLihQ2IaYYQC1BuU6RMJw&osq=Restaurants\n",
      "Chick-fil-A : https://www.yelp.com/biz/chick-fil-a-maryville-3?hrid=fCLihQ2IaYYQC1BuU6RMJw&osq=Restaurants\n"
     ]
    }
   ],
   "source": [
    "for key, value in business_review_urls.items():\n",
    "    print(key, \":\", value)"
   ]
  }
 ],
 "metadata": {
  "kernelspec": {
   "display_name": "Python 3 (ipykernel)",
   "language": "python",
   "name": "python3"
  },
  "language_info": {
   "codemirror_mode": {
    "name": "ipython",
    "version": 3
   },
   "file_extension": ".py",
   "mimetype": "text/x-python",
   "name": "python",
   "nbconvert_exporter": "python",
   "pygments_lexer": "ipython3",
   "version": "3.12.1"
  }
 },
 "nbformat": 4,
 "nbformat_minor": 5
}
